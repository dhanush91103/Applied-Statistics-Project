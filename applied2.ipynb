{
  "nbformat": 4,
  "nbformat_minor": 0,
  "metadata": {
    "colab": {
      "provenance": []
    },
    "kernelspec": {
      "name": "python3",
      "display_name": "Python 3"
    },
    "language_info": {
      "name": "python"
    }
  },
  "cells": [
    {
      "cell_type": "code",
      "execution_count": 13,
      "metadata": {
        "colab": {
          "base_uri": "https://localhost:8080/"
        },
        "id": "m1KGNyRDxNV-",
        "outputId": "ee56371d-e5e2-49dc-a27e-58abcf09bffb"
      },
      "outputs": [
        {
          "output_type": "stream",
          "name": "stdout",
          "text": [
            "Method of Moments Estimates:\n",
            "a (shape) ≈ 2.1766\n",
            "b (scale) ≈ 6.7504\n",
            "\n",
            "Maximum Likelihood Estimates:\n",
            "a (shape) ≈ 3.9330\n",
            "b (scale) ≈ 3.7359\n"
          ]
        }
      ],
      "source": [
        "import pandas as pd\n",
        "import numpy as np\n",
        "from scipy.stats import gamma\n",
        "\n",
        "# Load the Excel file\n",
        "df = pd.read_excel(\"newgame.xlsx\")\n",
        "\n",
        "# Extract Global_Sales and filter positive values\n",
        "global_sales = df['Global_Sales']\n",
        "global_sales = global_sales[global_sales > 0].dropna()\n",
        "\n",
        "# Method of Moments Estimation\n",
        "sample_mean = global_sales.mean()\n",
        "sample_var = global_sales.var()\n",
        "\n",
        "# MoM formulas for Gamma(a, b)\n",
        "b_mom = sample_var / sample_mean\n",
        "a_mom = sample_mean / b_mom\n",
        "\n",
        "print(\"Method of Moments Estimates:\")\n",
        "print(f\"a (shape) ≈ {a_mom:.4f}\")\n",
        "print(f\"b (scale) ≈ {b_mom:.4f}\")\n",
        "\n",
        "# Maximum Likelihood Estimation (fit Gamma with loc=0)\n",
        "a_mle, loc_mle, b_mle = gamma.fit(global_sales, floc=0)\n",
        "\n",
        "print(\"\\nMaximum Likelihood Estimates:\")\n",
        "print(f\"a (shape) ≈ {a_mle:.4f}\")\n",
        "print(f\"b (scale) ≈ {b_mle:.4f}\")\n"
      ]
    },
    {
      "cell_type": "code",
      "source": [
        "import pandas as pd\n",
        "from scipy.stats import chi2\n",
        "\n",
        "# Sample statistics\n",
        "n = len(global_sales)\n",
        "sample_var = global_sales.var(ddof=1)  # unbiased estimator\n",
        "\n",
        "# Confidence level\n",
        "alpha = 0.05\n",
        "\n",
        "# Chi-squared critical values (corrected)\n",
        "chi2_lower = chi2.ppf(alpha / 2, df=n - 1)       # lower tail\n",
        "chi2_upper = chi2.ppf(1 - alpha / 2, df=n - 1)   # upper tail\n",
        "\n",
        "# Confidence interval for the variance\n",
        "lower_bound = (n - 1) * sample_var / chi2_upper  # note: upper goes with lower_bound\n",
        "upper_bound = (n - 1) * sample_var / chi2_lower  # note: lower goes with upper_bound\n",
        "\n",
        "print(f\"95% Confidence Interval for the Variance: ({lower_bound:.4f}, {upper_bound:.4f})\")\n",
        "\n"
      ],
      "metadata": {
        "colab": {
          "base_uri": "https://localhost:8080/"
        },
        "id": "f3XNUxJd3STF",
        "outputId": "655c5378-e021-4e01-a00a-0d09b570c825"
      },
      "execution_count": 14,
      "outputs": [
        {
          "output_type": "stream",
          "name": "stdout",
          "text": [
            "95% Confidence Interval for the Variance: (76.3680, 134.0711)\n"
          ]
        }
      ]
    },
    {
      "cell_type": "code",
      "source": [
        "import pandas as pd\n",
        "import numpy as np\n",
        "from scipy import stats\n",
        "\n",
        "# Load Excel file\n",
        "df = pd.read_excel('newgame.xlsx')  # Ensure this file is in your working directory\n",
        "\n",
        "# -------------------------------\n",
        "# Part 1: Confidence Interval for Difference in Means\n",
        "# -------------------------------\n",
        "\n",
        "# Choose two non-overlapping genres\n",
        "genre1 = 'Sports'\n",
        "genre2 = 'Platform'\n",
        "\n",
        "# Filter data for each genre\n",
        "sales1 = df[df['Genre'] == genre1]['Global_Sales'].dropna()\n",
        "sales2 = df[df['Genre'] == genre2]['Global_Sales'].dropna()\n",
        "\n",
        "# Calculate means, standard deviations, and sample sizes\n",
        "n1, n2 = len(sales1), len(sales2)\n",
        "mean1, std1 = sales1.mean(), sales1.std(ddof=1)\n",
        "mean2, std2 = sales2.mean(), sales2.std(ddof=1)\n",
        "\n",
        "# Compute standard error and margin of error\n",
        "se_diff = np.sqrt(std1**2 / n1 + std2**2 / n2)\n",
        "z_critical = stats.norm.ppf(0.975)  # 95% CI\n",
        "margin_of_error = z_critical * se_diff\n",
        "\n",
        "# Confidence Interval\n",
        "ci_lower = (mean1 - mean2) - margin_of_error\n",
        "ci_upper = (mean1 - mean2) + margin_of_error\n",
        "\n",
        "# Output for Part 1\n",
        "print(\"=== 95% Confidence Interval for Difference in Means ===\")\n",
        "print(f\"Genre 1: {genre1} | Mean: {mean1:.3f}\")\n",
        "print(f\"Genre 2: {genre2} | Mean: {mean2:.3f}\")\n",
        "print(f\"95% CI for (Mean of {genre1} - Mean of {genre2}): ({ci_lower:.3f}, {ci_upper:.3f})\\n\")\n",
        "\n",
        "\n"
      ],
      "metadata": {
        "colab": {
          "base_uri": "https://localhost:8080/"
        },
        "id": "dN2iPHnmdkej",
        "outputId": "cba7a027-8c48-415a-ffbc-b72bd0b1252c"
      },
      "execution_count": 6,
      "outputs": [
        {
          "output_type": "stream",
          "name": "stdout",
          "text": [
            "=== 95% Confidence Interval for Difference in Means ===\n",
            "Genre 1: Sports | Mean: 29.502\n",
            "Genre 2: Platform | Mean: 15.745\n",
            "95% CI for (Mean of Sports - Mean of Platform): (-8.942, 36.456)\n",
            "\n"
          ]
        }
      ]
    },
    {
      "cell_type": "code",
      "source": [
        "# -------------------------------\n",
        "# Part 2: Hypothesis Test for Binary Response (Bernoulli)\n",
        "# -------------------------------\n",
        "\n",
        "# Define binary response variable: success if Global_Sales > 10 million\n",
        "df['Success'] = (df['Global_Sales'] > 10).astype(int)\n",
        "\n",
        "# Sample proportion and size\n",
        "p_hat = df['Success'].mean()\n",
        "n = len(df['Success'])\n",
        "p0 = 0.5  # Null hypothesis value\n",
        "\n",
        "# Z-test statistic and p-value\n",
        "z_stat = (p_hat - p0) / np.sqrt(p0 * (1 - p0) / n)\n",
        "p_value = 1 - stats.norm.cdf(z_stat)\n",
        "\n",
        "# Output for Part 2\n",
        "print(\"=== Hypothesis Test for Proportion (Bernoulli) ===\")\n",
        "print(\"H0: p <= 0.5 vs H1: p > 0.5\")\n",
        "print(f\"Sample proportion (p̂): {p_hat:.3f}\")\n",
        "print(f\"Z-statistic: {z_stat:.3f}\")\n",
        "print(f\"P-value: {p_value:.4f}\")\n",
        "if p_value < 0.05:\n",
        "    print(\"Conclusion: Reject H0 at 5% significance level. Evidence suggests p > 0.5.\")\n",
        "else:\n",
        "    print(\"Conclusion: Fail to reject H0. No strong evidence that p > 0.5.\")"
      ],
      "metadata": {
        "colab": {
          "base_uri": "https://localhost:8080/"
        },
        "id": "qiWD-ZhPdvQa",
        "outputId": "fd94a8ae-ffed-438d-ae79-6a359a9cb0f2"
      },
      "execution_count": 9,
      "outputs": [
        {
          "output_type": "stream",
          "name": "stdout",
          "text": [
            "=== Hypothesis Test for Proportion (Bernoulli) ===\n",
            "H0: p <= 0.5 vs H1: p > 0.5\n",
            "Sample proportion (p̂): 0.626\n",
            "Z-statistic: 2.513\n",
            "P-value: 0.0060\n",
            "Conclusion: Reject H0 at 5% significance level. Evidence suggests p > 0.5.\n"
          ]
        }
      ]
    }
  ]
}